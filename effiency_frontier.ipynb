{
 "cells": [
  {
   "cell_type": "markdown",
   "metadata": {},
   "source": [
    "# Markowitz Portfolio Optimierung\n",
    "## Ziel\n",
    "Das Ziel dieses Projektes ist es eine interakti\n",
    "ve Form des optimalen Portfolios nach Markowitz zu erstellen. Dabei soll sowohl der Risikofaktor, als auch das Portfolio(bestehend aus DAX30 Aktien) anpassbar sein. "
   ]
  },
  {
   "cell_type": "code",
   "execution_count": 4,
   "metadata": {},
   "outputs": [],
   "source": [
    "import pandas as pd\n",
    "import yfinance as yf\n",
    "import numpy as np\n",
    "import seaborn as sns\n",
    "import matplotlib.pyplot as plt\n",
    "import datetime"
   ]
  },
  {
   "cell_type": "code",
   "execution_count": 8,
   "metadata": {},
   "outputs": [
    {
     "name": "stdout",
     "output_type": "stream",
     "text": [
      "[*********************100%***********************]  5 of 5 completed\n"
     ]
    }
   ],
   "source": [
    "df = yf.download('DTE.DE FME.DE AAPL WDP.DE HFG.DE', period=\"10y\")"
   ]
  },
  {
   "cell_type": "code",
   "execution_count": 3,
   "metadata": {},
   "outputs": [
    {
     "data": {
      "text/plain": [
       "<bound method NDFrame.head of              Adj Close                                               \\\n",
       "                  AAPL     DTE.DE     FME.DE     HFG.DE      WDP.DE   \n",
       "Date                                                                  \n",
       "2010-07-26   32.065430   5.377336  35.412117        NaN   22.498596   \n",
       "2010-07-27   32.659046   5.414041  37.133247        NaN   22.308357   \n",
       "2010-07-28   32.273190   5.374714  37.111729        NaN   22.219582   \n",
       "2010-07-29   31.920740   5.421906  36.315712        NaN   21.999754   \n",
       "2010-07-30   31.814383   5.406175  36.233952        NaN   21.847567   \n",
       "...                ...        ...        ...        ...         ...   \n",
       "2020-07-20  393.429993        NaN        NaN        NaN         NaN   \n",
       "2020-07-21  388.000000  15.420000  78.139999  42.200001  104.239998   \n",
       "2020-07-22  389.089996  15.275000  78.540001  43.639999  102.160004   \n",
       "2020-07-23  371.380005  15.230000  79.000000  45.560001  102.099998   \n",
       "2020-07-24  370.459991  14.880000  76.419998  43.980000  101.019997   \n",
       "\n",
       "                 Close                                            ...  \\\n",
       "                  AAPL  DTE.DE     FME.DE     HFG.DE      WDP.DE  ...   \n",
       "Date                                                              ...   \n",
       "2010-07-26   37.040001  10.255  41.150002        NaN   26.610001  ...   \n",
       "2010-07-27   37.725716  10.325  43.150002        NaN   26.385000  ...   \n",
       "2010-07-28   37.279999  10.250  43.125000        NaN   26.280001  ...   \n",
       "2010-07-29   36.872856  10.340  42.200001        NaN   26.020000  ...   \n",
       "2010-07-30   36.750000  10.310  42.105000        NaN   25.840000  ...   \n",
       "...                ...     ...        ...        ...         ...  ...   \n",
       "2020-07-20  393.429993     NaN        NaN        NaN         NaN  ...   \n",
       "2020-07-21  388.000000  15.420  78.139999  42.200001  104.239998  ...   \n",
       "2020-07-22  389.089996  15.275  78.540001  43.639999  102.160004  ...   \n",
       "2020-07-23  371.380005  15.230  79.000000  45.560001  102.099998  ...   \n",
       "2020-07-24  370.459991  14.880  76.419998  43.980000  101.019997  ...   \n",
       "\n",
       "                  Open                                                 Volume  \\\n",
       "                  AAPL  DTE.DE     FME.DE     HFG.DE      WDP.DE         AAPL   \n",
       "Date                                                                            \n",
       "2010-07-26   37.142857  10.250  41.169998        NaN   26.510000  105137900.0   \n",
       "2010-07-27   37.267143  10.230  42.169998        NaN   26.610001  146192900.0   \n",
       "2010-07-28   37.667141  10.350  43.410000        NaN   26.280001  129996300.0   \n",
       "2010-07-29   37.244286  10.250  43.130001        NaN   26.170000  160951700.0   \n",
       "2010-07-30   36.555714  10.350  42.025002        NaN   25.820000  112052500.0   \n",
       "...                ...     ...        ...        ...         ...          ...   \n",
       "2020-07-20  385.670013     NaN        NaN        NaN         NaN   22579500.0   \n",
       "2020-07-21  396.690002  15.500  77.599998  44.439999  103.519997   25911500.0   \n",
       "2020-07-22  386.769989  15.425  77.879997  42.040001  102.779999   22250400.0   \n",
       "2020-07-23  387.989990  15.280  79.300003  44.259998  102.680000   49251100.0   \n",
       "2020-07-24  363.950012  15.145  77.580002  45.060001  100.879997   46323800.0   \n",
       "\n",
       "                                                       \n",
       "                DTE.DE     FME.DE     HFG.DE   WDP.DE  \n",
       "Date                                                   \n",
       "2010-07-26   7252637.0   635281.0        NaN    509.0  \n",
       "2010-07-27  14812907.0  1521166.0        NaN    409.0  \n",
       "2010-07-28  11371312.0   862301.0        NaN    400.0  \n",
       "2010-07-29  21360173.0   777839.0        NaN   1618.0  \n",
       "2010-07-30  14963482.0   879829.0        NaN    438.0  \n",
       "...                ...        ...        ...      ...  \n",
       "2020-07-20         NaN        NaN        NaN      NaN  \n",
       "2020-07-21   9162609.0   712080.0  1711716.0   5639.0  \n",
       "2020-07-22   8096387.0   588399.0  1235599.0   6197.0  \n",
       "2020-07-23   7656147.0   517846.0  1075152.0   3775.0  \n",
       "2020-07-24  10026278.0   685815.0  1066753.0  14776.0  \n",
       "\n",
       "[2583 rows x 30 columns]>"
      ]
     },
     "execution_count": 3,
     "metadata": {},
     "output_type": "execute_result"
    }
   ],
   "source": [
    "df.head"
   ]
  },
  {
   "cell_type": "code",
   "execution_count": 9,
   "metadata": {},
   "outputs": [
    {
     "data": {
      "text/html": [
       "<div>\n",
       "<style scoped>\n",
       "    .dataframe tbody tr th:only-of-type {\n",
       "        vertical-align: middle;\n",
       "    }\n",
       "\n",
       "    .dataframe tbody tr th {\n",
       "        vertical-align: top;\n",
       "    }\n",
       "\n",
       "    .dataframe thead th {\n",
       "        text-align: right;\n",
       "    }\n",
       "</style>\n",
       "<table border=\"1\" class=\"dataframe\">\n",
       "  <thead>\n",
       "    <tr style=\"text-align: right;\">\n",
       "      <th></th>\n",
       "      <th>AAPL</th>\n",
       "      <th>DTE.DE</th>\n",
       "      <th>FME.DE</th>\n",
       "      <th>HFG.DE</th>\n",
       "      <th>WDP.DE</th>\n",
       "    </tr>\n",
       "  </thead>\n",
       "  <tbody>\n",
       "    <tr>\n",
       "      <th>count</th>\n",
       "      <td>2518.000000</td>\n",
       "      <td>2535.000000</td>\n",
       "      <td>2535.000000</td>\n",
       "      <td>685.000000</td>\n",
       "      <td>2326.000000</td>\n",
       "    </tr>\n",
       "    <tr>\n",
       "      <th>mean</th>\n",
       "      <td>119.365661</td>\n",
       "      <td>9.496943</td>\n",
       "      <td>59.701139</td>\n",
       "      <td>15.552407</td>\n",
       "      <td>70.659180</td>\n",
       "    </tr>\n",
       "    <tr>\n",
       "      <th>std</th>\n",
       "      <td>72.383200</td>\n",
       "      <td>3.267124</td>\n",
       "      <td>14.328208</td>\n",
       "      <td>9.696248</td>\n",
       "      <td>33.406018</td>\n",
       "    </tr>\n",
       "    <tr>\n",
       "      <th>min</th>\n",
       "      <td>29.672398</td>\n",
       "      <td>4.441216</td>\n",
       "      <td>35.373398</td>\n",
       "      <td>5.970000</td>\n",
       "      <td>20.351044</td>\n",
       "    </tr>\n",
       "    <tr>\n",
       "      <th>25%</th>\n",
       "      <td>66.093098</td>\n",
       "      <td>5.769567</td>\n",
       "      <td>45.838781</td>\n",
       "      <td>9.180000</td>\n",
       "      <td>27.305870</td>\n",
       "    </tr>\n",
       "    <tr>\n",
       "      <th>50%</th>\n",
       "      <td>101.109985</td>\n",
       "      <td>10.783264</td>\n",
       "      <td>60.968163</td>\n",
       "      <td>12.100000</td>\n",
       "      <td>81.894855</td>\n",
       "    </tr>\n",
       "    <tr>\n",
       "      <th>75%</th>\n",
       "      <td>162.759773</td>\n",
       "      <td>12.226096</td>\n",
       "      <td>72.031715</td>\n",
       "      <td>17.459999</td>\n",
       "      <td>95.330494</td>\n",
       "    </tr>\n",
       "    <tr>\n",
       "      <th>max</th>\n",
       "      <td>393.429993</td>\n",
       "      <td>15.420000</td>\n",
       "      <td>87.423950</td>\n",
       "      <td>52.000000</td>\n",
       "      <td>137.682953</td>\n",
       "    </tr>\n",
       "  </tbody>\n",
       "</table>\n",
       "</div>"
      ],
      "text/plain": [
       "              AAPL       DTE.DE       FME.DE      HFG.DE       WDP.DE\n",
       "count  2518.000000  2535.000000  2535.000000  685.000000  2326.000000\n",
       "mean    119.365661     9.496943    59.701139   15.552407    70.659180\n",
       "std      72.383200     3.267124    14.328208    9.696248    33.406018\n",
       "min      29.672398     4.441216    35.373398    5.970000    20.351044\n",
       "25%      66.093098     5.769567    45.838781    9.180000    27.305870\n",
       "50%     101.109985    10.783264    60.968163   12.100000    81.894855\n",
       "75%     162.759773    12.226096    72.031715   17.459999    95.330494\n",
       "max     393.429993    15.420000    87.423950   52.000000   137.682953"
      ]
     },
     "execution_count": 9,
     "metadata": {},
     "output_type": "execute_result"
    }
   ],
   "source": [
    "data =df['Adj Close']\n",
    "data.describe()"
   ]
  },
  {
   "cell_type": "code",
   "execution_count": 10,
   "metadata": {},
   "outputs": [
    {
     "data": {
      "text/html": [
       "<style  type=\"text/css\" >\n",
       "    #T_4245c244_cf33_11ea_bb73_1fd84a47a771row0_col0 {\n",
       "            background-color:  #b40426;\n",
       "            color:  #f1f1f1;\n",
       "        }    #T_4245c244_cf33_11ea_bb73_1fd84a47a771row0_col1 {\n",
       "            background-color:  #f59c7d;\n",
       "            color:  #000000;\n",
       "        }    #T_4245c244_cf33_11ea_bb73_1fd84a47a771row0_col2 {\n",
       "            background-color:  #f6bfa6;\n",
       "            color:  #000000;\n",
       "        }    #T_4245c244_cf33_11ea_bb73_1fd84a47a771row0_col3 {\n",
       "            background-color:  #df634e;\n",
       "            color:  #000000;\n",
       "        }    #T_4245c244_cf33_11ea_bb73_1fd84a47a771row0_col4 {\n",
       "            background-color:  #f29072;\n",
       "            color:  #000000;\n",
       "        }    #T_4245c244_cf33_11ea_bb73_1fd84a47a771row1_col0 {\n",
       "            background-color:  #cfdaea;\n",
       "            color:  #000000;\n",
       "        }    #T_4245c244_cf33_11ea_bb73_1fd84a47a771row1_col1 {\n",
       "            background-color:  #b40426;\n",
       "            color:  #f1f1f1;\n",
       "        }    #T_4245c244_cf33_11ea_bb73_1fd84a47a771row1_col2 {\n",
       "            background-color:  #e36b54;\n",
       "            color:  #000000;\n",
       "        }    #T_4245c244_cf33_11ea_bb73_1fd84a47a771row1_col3 {\n",
       "            background-color:  #89acfd;\n",
       "            color:  #000000;\n",
       "        }    #T_4245c244_cf33_11ea_bb73_1fd84a47a771row1_col4 {\n",
       "            background-color:  #c53334;\n",
       "            color:  #f1f1f1;\n",
       "        }    #T_4245c244_cf33_11ea_bb73_1fd84a47a771row2_col0 {\n",
       "            background-color:  #3b4cc0;\n",
       "            color:  #f1f1f1;\n",
       "        }    #T_4245c244_cf33_11ea_bb73_1fd84a47a771row2_col1 {\n",
       "            background-color:  #ed8366;\n",
       "            color:  #000000;\n",
       "        }    #T_4245c244_cf33_11ea_bb73_1fd84a47a771row2_col2 {\n",
       "            background-color:  #b40426;\n",
       "            color:  #f1f1f1;\n",
       "        }    #T_4245c244_cf33_11ea_bb73_1fd84a47a771row2_col3 {\n",
       "            background-color:  #3b4cc0;\n",
       "            color:  #f1f1f1;\n",
       "        }    #T_4245c244_cf33_11ea_bb73_1fd84a47a771row2_col4 {\n",
       "            background-color:  #f18f71;\n",
       "            color:  #000000;\n",
       "        }    #T_4245c244_cf33_11ea_bb73_1fd84a47a771row3_col0 {\n",
       "            background-color:  #f5c2aa;\n",
       "            color:  #000000;\n",
       "        }    #T_4245c244_cf33_11ea_bb73_1fd84a47a771row3_col1 {\n",
       "            background-color:  #3b4cc0;\n",
       "            color:  #f1f1f1;\n",
       "        }    #T_4245c244_cf33_11ea_bb73_1fd84a47a771row3_col2 {\n",
       "            background-color:  #3b4cc0;\n",
       "            color:  #f1f1f1;\n",
       "        }    #T_4245c244_cf33_11ea_bb73_1fd84a47a771row3_col3 {\n",
       "            background-color:  #b40426;\n",
       "            color:  #f1f1f1;\n",
       "        }    #T_4245c244_cf33_11ea_bb73_1fd84a47a771row3_col4 {\n",
       "            background-color:  #3b4cc0;\n",
       "            color:  #f1f1f1;\n",
       "        }    #T_4245c244_cf33_11ea_bb73_1fd84a47a771row4_col0 {\n",
       "            background-color:  #b7cff9;\n",
       "            color:  #000000;\n",
       "        }    #T_4245c244_cf33_11ea_bb73_1fd84a47a771row4_col1 {\n",
       "            background-color:  #cb3e38;\n",
       "            color:  #f1f1f1;\n",
       "        }    #T_4245c244_cf33_11ea_bb73_1fd84a47a771row4_col2 {\n",
       "            background-color:  #f18d6f;\n",
       "            color:  #000000;\n",
       "        }    #T_4245c244_cf33_11ea_bb73_1fd84a47a771row4_col3 {\n",
       "            background-color:  #3e51c5;\n",
       "            color:  #f1f1f1;\n",
       "        }    #T_4245c244_cf33_11ea_bb73_1fd84a47a771row4_col4 {\n",
       "            background-color:  #b40426;\n",
       "            color:  #f1f1f1;\n",
       "        }</style><table id=\"T_4245c244_cf33_11ea_bb73_1fd84a47a771\" ><thead>    <tr>        <th class=\"blank level0\" ></th>        <th class=\"col_heading level0 col0\" >AAPL</th>        <th class=\"col_heading level0 col1\" >DTE.DE</th>        <th class=\"col_heading level0 col2\" >FME.DE</th>        <th class=\"col_heading level0 col3\" >HFG.DE</th>        <th class=\"col_heading level0 col4\" >WDP.DE</th>    </tr></thead><tbody>\n",
       "                <tr>\n",
       "                        <th id=\"T_4245c244_cf33_11ea_bb73_1fd84a47a771level0_row0\" class=\"row_heading level0 row0\" >AAPL</th>\n",
       "                        <td id=\"T_4245c244_cf33_11ea_bb73_1fd84a47a771row0_col0\" class=\"data row0 col0\" >1.000000</td>\n",
       "                        <td id=\"T_4245c244_cf33_11ea_bb73_1fd84a47a771row0_col1\" class=\"data row0 col1\" >0.818556</td>\n",
       "                        <td id=\"T_4245c244_cf33_11ea_bb73_1fd84a47a771row0_col2\" class=\"data row0 col2\" >0.668304</td>\n",
       "                        <td id=\"T_4245c244_cf33_11ea_bb73_1fd84a47a771row0_col3\" class=\"data row0 col3\" >0.877462</td>\n",
       "                        <td id=\"T_4245c244_cf33_11ea_bb73_1fd84a47a771row0_col4\" class=\"data row0 col4\" >0.791691</td>\n",
       "            </tr>\n",
       "            <tr>\n",
       "                        <th id=\"T_4245c244_cf33_11ea_bb73_1fd84a47a771level0_row1\" class=\"row_heading level0 row1\" >DTE.DE</th>\n",
       "                        <td id=\"T_4245c244_cf33_11ea_bb73_1fd84a47a771row1_col0\" class=\"data row1 col0\" >0.818556</td>\n",
       "                        <td id=\"T_4245c244_cf33_11ea_bb73_1fd84a47a771row1_col1\" class=\"data row1 col1\" >1.000000</td>\n",
       "                        <td id=\"T_4245c244_cf33_11ea_bb73_1fd84a47a771row1_col2\" class=\"data row1 col2\" >0.862030</td>\n",
       "                        <td id=\"T_4245c244_cf33_11ea_bb73_1fd84a47a771row1_col3\" class=\"data row1 col3\" >0.293997</td>\n",
       "                        <td id=\"T_4245c244_cf33_11ea_bb73_1fd84a47a771row1_col4\" class=\"data row1 col4\" >0.954935</td>\n",
       "            </tr>\n",
       "            <tr>\n",
       "                        <th id=\"T_4245c244_cf33_11ea_bb73_1fd84a47a771level0_row2\" class=\"row_heading level0 row2\" >FME.DE</th>\n",
       "                        <td id=\"T_4245c244_cf33_11ea_bb73_1fd84a47a771row2_col0\" class=\"data row2 col0\" >0.668304</td>\n",
       "                        <td id=\"T_4245c244_cf33_11ea_bb73_1fd84a47a771row2_col1\" class=\"data row2 col1\" >0.862030</td>\n",
       "                        <td id=\"T_4245c244_cf33_11ea_bb73_1fd84a47a771row2_col2\" class=\"data row2 col2\" >1.000000</td>\n",
       "                        <td id=\"T_4245c244_cf33_11ea_bb73_1fd84a47a771row2_col3\" class=\"data row2 col3\" >0.070060</td>\n",
       "                        <td id=\"T_4245c244_cf33_11ea_bb73_1fd84a47a771row2_col4\" class=\"data row2 col4\" >0.792953</td>\n",
       "            </tr>\n",
       "            <tr>\n",
       "                        <th id=\"T_4245c244_cf33_11ea_bb73_1fd84a47a771level0_row3\" class=\"row_heading level0 row3\" >HFG.DE</th>\n",
       "                        <td id=\"T_4245c244_cf33_11ea_bb73_1fd84a47a771row3_col0\" class=\"data row3 col0\" >0.877462</td>\n",
       "                        <td id=\"T_4245c244_cf33_11ea_bb73_1fd84a47a771row3_col1\" class=\"data row3 col1\" >0.293997</td>\n",
       "                        <td id=\"T_4245c244_cf33_11ea_bb73_1fd84a47a771row3_col2\" class=\"data row3 col2\" >0.070060</td>\n",
       "                        <td id=\"T_4245c244_cf33_11ea_bb73_1fd84a47a771row3_col3\" class=\"data row3 col3\" >1.000000</td>\n",
       "                        <td id=\"T_4245c244_cf33_11ea_bb73_1fd84a47a771row3_col4\" class=\"data row3 col4\" >0.082603</td>\n",
       "            </tr>\n",
       "            <tr>\n",
       "                        <th id=\"T_4245c244_cf33_11ea_bb73_1fd84a47a771level0_row4\" class=\"row_heading level0 row4\" >WDP.DE</th>\n",
       "                        <td id=\"T_4245c244_cf33_11ea_bb73_1fd84a47a771row4_col0\" class=\"data row4 col0\" >0.791691</td>\n",
       "                        <td id=\"T_4245c244_cf33_11ea_bb73_1fd84a47a771row4_col1\" class=\"data row4 col1\" >0.954935</td>\n",
       "                        <td id=\"T_4245c244_cf33_11ea_bb73_1fd84a47a771row4_col2\" class=\"data row4 col2\" >0.792953</td>\n",
       "                        <td id=\"T_4245c244_cf33_11ea_bb73_1fd84a47a771row4_col3\" class=\"data row4 col3\" >0.082603</td>\n",
       "                        <td id=\"T_4245c244_cf33_11ea_bb73_1fd84a47a771row4_col4\" class=\"data row4 col4\" >1.000000</td>\n",
       "            </tr>\n",
       "    </tbody></table>"
      ],
      "text/plain": [
       "<pandas.io.formats.style.Styler at 0x7f78a5569390>"
      ]
     },
     "execution_count": 10,
     "metadata": {},
     "output_type": "execute_result"
    }
   ],
   "source": [
    "corr =data.corr()\n",
    "corr.style.background_gradient(cmap='coolwarm')"
   ]
  },
  {
   "cell_type": "code",
   "execution_count": 11,
   "metadata": {},
   "outputs": [
    {
     "data": {
      "text/plain": [
       "Text(0, 0.5, 'Returns')"
      ]
     },
     "execution_count": 11,
     "metadata": {},
     "output_type": "execute_result"
    },
    {
     "data": {
      "image/png": "[encoded data removed]",
      "text/plain": [
       "<Figure size 432x288 with 1 Axes>"
      ]
     },
     "metadata": {
      "needs_background": "light"
     },
     "output_type": "display_data"
    }
   ],
   "source": [
    "returns = data.pct_change()\n",
    "cov_returns = returns.cov()\n",
    "mean_returns = returns.mean()\n",
    "std_returns = returns.std()\n",
    "\n",
    "#plotten der Einzelaktien\n",
    "plt.scatter(std_returns, mean_returns)\n",
    "plt.title('Risiko / Return Einzelaktien')\n",
    "plt.xlabel('Volatilität')\n",
    "plt.ylabel('Returns')"
   ]
  },
  {
   "cell_type": "markdown",
   "metadata": {},
   "source": [
    "# Generieren zufälliger Portfolios\n",
    "\n",
    "Wir haben 5 Aktien und müssen entscheiden wie wir Anlegen, dazu ist unser Budget 1. "
   ]
  },
  {
   "cell_type": "code",
   "execution_count": 12,
   "metadata": {},
   "outputs": [],
   "source": [
    "from numpy import random\n",
    "num_portfolios = 2000\n",
    "\n",
    "def portfolio_performance(weights, mean_returns, cov_returns):\n",
    "    pf_return = np.dot(weights, mean_returns) * 252\n",
    "    pf_std = np.sqrt(np.dot( weights, np.dot(cov_returns, np.transpose(weights)))) *np.sqrt(252)\n",
    "    pf_sharpe = pf_return[0] / pf_std[0][0]\n",
    "    return weights[0][0], weights[0][1], weights[0][2], weights[0][3], weights[0][4], pf_return[0], pf_std[0][0], pf_sharpe"
   ]
  },
  {
   "cell_type": "code",
   "execution_count": 13,
   "metadata": {},
   "outputs": [
    {
     "data": {
      "text/html": [
       "<div>\n",
       "<style scoped>\n",
       "    .dataframe tbody tr th:only-of-type {\n",
       "        vertical-align: middle;\n",
       "    }\n",
       "\n",
       "    .dataframe tbody tr th {\n",
       "        vertical-align: top;\n",
       "    }\n",
       "\n",
       "    .dataframe thead th {\n",
       "        text-align: right;\n",
       "    }\n",
       "</style>\n",
       "<table border=\"1\" class=\"dataframe\">\n",
       "  <thead>\n",
       "    <tr style=\"text-align: right;\">\n",
       "      <th></th>\n",
       "      <th>% DTE.DE</th>\n",
       "      <th>% FME.DE</th>\n",
       "      <th>% AAPL</th>\n",
       "      <th>% WDP.DE</th>\n",
       "      <th>% HFG.DE</th>\n",
       "      <th>returns</th>\n",
       "      <th>volatility</th>\n",
       "      <th>sharpe ratio</th>\n",
       "    </tr>\n",
       "  </thead>\n",
       "  <tbody>\n",
       "    <tr>\n",
       "      <th>0</th>\n",
       "      <td>0.131690</td>\n",
       "      <td>0.031764</td>\n",
       "      <td>0.044137</td>\n",
       "      <td>0.046268</td>\n",
       "      <td>0.746141</td>\n",
       "      <td>0.221717</td>\n",
       "      <td>0.283749</td>\n",
       "      <td>0.781387</td>\n",
       "    </tr>\n",
       "    <tr>\n",
       "      <th>1</th>\n",
       "      <td>0.183347</td>\n",
       "      <td>0.123565</td>\n",
       "      <td>0.192604</td>\n",
       "      <td>0.425164</td>\n",
       "      <td>0.075321</td>\n",
       "      <td>0.368892</td>\n",
       "      <td>0.251299</td>\n",
       "      <td>1.467942</td>\n",
       "    </tr>\n",
       "    <tr>\n",
       "      <th>2</th>\n",
       "      <td>0.099572</td>\n",
       "      <td>0.266392</td>\n",
       "      <td>0.509004</td>\n",
       "      <td>0.092950</td>\n",
       "      <td>0.032081</td>\n",
       "      <td>0.176882</td>\n",
       "      <td>0.175810</td>\n",
       "      <td>1.006095</td>\n",
       "    </tr>\n",
       "    <tr>\n",
       "      <th>3</th>\n",
       "      <td>0.052838</td>\n",
       "      <td>0.055938</td>\n",
       "      <td>0.372540</td>\n",
       "      <td>0.102649</td>\n",
       "      <td>0.416036</td>\n",
       "      <td>0.206353</td>\n",
       "      <td>0.206013</td>\n",
       "      <td>1.001647</td>\n",
       "    </tr>\n",
       "    <tr>\n",
       "      <th>4</th>\n",
       "      <td>0.200355</td>\n",
       "      <td>0.362732</td>\n",
       "      <td>0.021804</td>\n",
       "      <td>0.412655</td>\n",
       "      <td>0.002454</td>\n",
       "      <td>0.363623</td>\n",
       "      <td>0.249807</td>\n",
       "      <td>1.455616</td>\n",
       "    </tr>\n",
       "  </tbody>\n",
       "</table>\n",
       "</div>"
      ],
      "text/plain": [
       "   % DTE.DE  % FME.DE    % AAPL  % WDP.DE  % HFG.DE   returns  volatility  \\\n",
       "0  0.131690  0.031764  0.044137  0.046268  0.746141  0.221717    0.283749   \n",
       "1  0.183347  0.123565  0.192604  0.425164  0.075321  0.368892    0.251299   \n",
       "2  0.099572  0.266392  0.509004  0.092950  0.032081  0.176882    0.175810   \n",
       "3  0.052838  0.055938  0.372540  0.102649  0.416036  0.206353    0.206013   \n",
       "4  0.200355  0.362732  0.021804  0.412655  0.002454  0.363623    0.249807   \n",
       "\n",
       "   sharpe ratio  \n",
       "0      0.781387  \n",
       "1      1.467942  \n",
       "2      1.006095  \n",
       "3      1.001647  \n",
       "4      1.455616  "
      ]
     },
     "execution_count": 13,
     "metadata": {},
     "output_type": "execute_result"
    }
   ],
   "source": [
    "df_portfolios= pd.DataFrame(columns = ['% DTE.DE', '% FME.DE', '% AAPL', '% WDP.DE', '% HFG.DE', 'returns', 'volatility'])\n",
    "for i in range(num_portfolios):\n",
    "    weights = np.random.dirichlet(np.ones(5), size=1)\n",
    "    stk1, stk2, stk3, stk4, stk5, ret, vol, sharpe = portfolio_performance(weights, mean_returns, cov_returns)\n",
    "    df_portfolios = df_portfolios.append({ '% DTE.DE': stk1,\n",
    "                                            '% FME.DE': stk2,\n",
    "                                            '% AAPL': stk3,\n",
    "                                            '% WDP.DE': stk4,\n",
    "                                            '% HFG.DE': stk5,\n",
    "                                            'returns': ret,\n",
    "                                            'volatility': vol,\n",
    "                                            'sharpe ratio': sharpe}\n",
    "                         ,ignore_index = True\n",
    "                        )\n",
    "df_portfolios.head()"
   ]
  },
  {
   "cell_type": "code",
   "execution_count": 46,
   "metadata": {},
   "outputs": [
    {
     "data": {
      "text/html": [
       "<div>\n",
       "<style scoped>\n",
       "    .dataframe tbody tr th:only-of-type {\n",
       "        vertical-align: middle;\n",
       "    }\n",
       "\n",
       "    .dataframe tbody tr th {\n",
       "        vertical-align: top;\n",
       "    }\n",
       "\n",
       "    .dataframe thead th {\n",
       "        text-align: right;\n",
       "    }\n",
       "</style>\n",
       "<table border=\"1\" class=\"dataframe\">\n",
       "  <thead>\n",
       "    <tr style=\"text-align: right;\">\n",
       "      <th></th>\n",
       "      <th>% DTE.DE</th>\n",
       "      <th>% FME.DE</th>\n",
       "      <th>% AAPL</th>\n",
       "      <th>% WDP.DE</th>\n",
       "      <th>% HFG.DE</th>\n",
       "      <th>returns</th>\n",
       "      <th>volatility</th>\n",
       "      <th>sharpe ratio</th>\n",
       "    </tr>\n",
       "  </thead>\n",
       "  <tbody>\n",
       "    <tr>\n",
       "      <th>1628</th>\n",
       "      <td>0.419664</td>\n",
       "      <td>0.046513</td>\n",
       "      <td>0.02589</td>\n",
       "      <td>0.342239</td>\n",
       "      <td>0.165693</td>\n",
       "      <td>0.373172</td>\n",
       "      <td>0.239552</td>\n",
       "      <td>1.557794</td>\n",
       "    </tr>\n",
       "  </tbody>\n",
       "</table>\n",
       "</div>"
      ],
      "text/plain": [
       "      % DTE.DE  % FME.DE   % AAPL  % WDP.DE  % HFG.DE   returns  volatility  \\\n",
       "1628  0.419664  0.046513  0.02589  0.342239  0.165693  0.373172    0.239552   \n",
       "\n",
       "      sharpe ratio  \n",
       "1628      1.557794  "
      ]
     },
     "execution_count": 46,
     "metadata": {},
     "output_type": "execute_result"
    }
   ],
   "source": [
    "# Berechnen max sharpe\n",
    "\n",
    "max_sharpe = df_portfolios['sharpe ratio'].max()\n",
    "ind_max_sharpe = df_portfolios[df_portfolios['sharpe ratio'] == max_sharpe]\n",
    "ind_max_sharpe"
   ]
  },
  {
   "cell_type": "code",
   "execution_count": 45,
   "metadata": {
    "scrolled": true
   },
   "outputs": [
    {
     "data": {
      "text/plain": [
       "Text(0, 0.5, 'Returns')"
      ]
     },
     "execution_count": 45,
     "metadata": {},
     "output_type": "execute_result"
    },
    {
     "data": {
      "image/png": "[encoded data removed]",
      "text/plain": [
       "<Figure size 432x288 with 2 Axes>"
      ]
     },
     "metadata": {
      "needs_background": "light"
     },
     "output_type": "display_data"
    }
   ],
   "source": [
    "plt.scatter(df_portfolios['volatility'], df_portfolios['returns'], c=df_portfolios['volatility'])\n",
    "plt.colorbar()\n",
    "plt.scatter(ind_max_sharpe['volatility'], ind_max_sharpe['returns'], c='red', s=70)\n",
    "\n",
    "plt.title('Risiko / Return Portfolios mit Sharpe Ratio')\n",
    "plt.xlabel('Risiko')\n",
    "plt.ylabel('Returns')"
   ]
  },
  {
   "cell_type": "code",
   "execution_count": null,
   "metadata": {},
   "outputs": [],
   "source": [
    "#finden der dominierenden Portfolios\n",
    "# Portfolio dominiert, wenn es einen höheren Return für gleiches oder geringeres Risiko hat\n",
    "\n",
    "                   "
   ]
  },
  {
   "cell_type": "code",
   "execution_count": null,
   "metadata": {},
   "outputs": [],
   "source": []
  }
 ],
 "metadata": {
  "kernelspec": {
   "display_name": "Python 3",
   "language": "python",
   "name": "python3"
  },
  "language_info": {
   "codemirror_mode": {
    "name": "ipython",
    "version": 3
   },
   "file_extension": ".py",
   "mimetype": "text/x-python",
   "name": "python",
   "nbconvert_exporter": "python",
   "pygments_lexer": "ipython3",
   "version": "3.7.6"
  }
 },
 "nbformat": 4,
 "nbformat_minor": 4
}
