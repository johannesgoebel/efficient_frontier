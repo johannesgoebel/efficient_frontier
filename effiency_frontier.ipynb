{
 "cells": [
  {
   "cell_type": "markdown",
   "metadata": {},
   "source": [
    "# Markowitz Portfolio Optimierung\n",
    "## Ziel\n",
    "Das Ziel dieses Projektes ist es eine interakti\n",
    "ve Form des optimalen Portfolios nach Markowitz zu erstellen. Dabei soll sowohl der Risikofaktor, als auch das Portfolio(bestehend aus DAX30 Aktien) anpassbar sein. "
   ]
  },
  {
   "cell_type": "code",
   "execution_count": 1,
   "metadata": {},
   "outputs": [],
   "source": [
    "import pandas as pd\n",
    "import yfinance as yf\n",
    "import numpy as np\n",
    "import seaborn as sns; sns.set()\n",
    "import matplotlib.pyplot as plt\n",
    "import datetime"
   ]
  },
  {
   "cell_type": "code",
   "execution_count": 2,
   "metadata": {},
   "outputs": [
    {
     "name": "stdout",
     "output_type": "stream",
     "text": [
      "[*********************100%***********************]  5 of 5 completed\n"
     ]
    }
   ],
   "source": [
    "df = yf.download('DTE.DE FME.DE AAPL WDP.DE HFG.DE', period=\"10y\")"
   ]
  },
  {
   "cell_type": "code",
   "execution_count": 3,
   "metadata": {},
   "outputs": [
    {
     "data": {
      "text/html": [
       "<div>\n",
       "<style scoped>\n",
       "    .dataframe tbody tr th:only-of-type {\n",
       "        vertical-align: middle;\n",
       "    }\n",
       "\n",
       "    .dataframe tbody tr th {\n",
       "        vertical-align: top;\n",
       "    }\n",
       "\n",
       "    .dataframe thead th {\n",
       "        text-align: right;\n",
       "    }\n",
       "</style>\n",
       "<table border=\"1\" class=\"dataframe\">\n",
       "  <thead>\n",
       "    <tr style=\"text-align: right;\">\n",
       "      <th></th>\n",
       "      <th>AAPL</th>\n",
       "      <th>DTE.DE</th>\n",
       "      <th>FME.DE</th>\n",
       "      <th>HFG.DE</th>\n",
       "      <th>WDP.DE</th>\n",
       "    </tr>\n",
       "  </thead>\n",
       "  <tbody>\n",
       "    <tr>\n",
       "      <th>count</th>\n",
       "      <td>2518.000000</td>\n",
       "      <td>2535.000000</td>\n",
       "      <td>2535.000000</td>\n",
       "      <td>690.000000</td>\n",
       "      <td>2326.000000</td>\n",
       "    </tr>\n",
       "    <tr>\n",
       "      <th>mean</th>\n",
       "      <td>120.073158</td>\n",
       "      <td>9.514947</td>\n",
       "      <td>59.779590</td>\n",
       "      <td>15.768433</td>\n",
       "      <td>70.822609</td>\n",
       "    </tr>\n",
       "    <tr>\n",
       "      <th>std</th>\n",
       "      <td>73.268235</td>\n",
       "      <td>3.269657</td>\n",
       "      <td>14.309671</td>\n",
       "      <td>9.986987</td>\n",
       "      <td>33.354349</td>\n",
       "    </tr>\n",
       "    <tr>\n",
       "      <th>min</th>\n",
       "      <td>29.672398</td>\n",
       "      <td>4.441216</td>\n",
       "      <td>35.373398</td>\n",
       "      <td>5.970000</td>\n",
       "      <td>20.351044</td>\n",
       "    </tr>\n",
       "    <tr>\n",
       "      <th>25%</th>\n",
       "      <td>66.306261</td>\n",
       "      <td>5.777770</td>\n",
       "      <td>45.859341</td>\n",
       "      <td>9.200000</td>\n",
       "      <td>27.305870</td>\n",
       "    </tr>\n",
       "    <tr>\n",
       "      <th>50%</th>\n",
       "      <td>101.454456</td>\n",
       "      <td>10.792195</td>\n",
       "      <td>61.377052</td>\n",
       "      <td>12.140000</td>\n",
       "      <td>81.974186</td>\n",
       "    </tr>\n",
       "    <tr>\n",
       "      <th>75%</th>\n",
       "      <td>163.260036</td>\n",
       "      <td>12.235141</td>\n",
       "      <td>72.135265</td>\n",
       "      <td>17.695000</td>\n",
       "      <td>95.460314</td>\n",
       "    </tr>\n",
       "    <tr>\n",
       "      <th>max</th>\n",
       "      <td>425.040009</td>\n",
       "      <td>15.420000</td>\n",
       "      <td>87.423950</td>\n",
       "      <td>52.000000</td>\n",
       "      <td>137.682953</td>\n",
       "    </tr>\n",
       "  </tbody>\n",
       "</table>\n",
       "</div>"
      ],
      "text/plain": [
       "              AAPL       DTE.DE       FME.DE      HFG.DE       WDP.DE\n",
       "count  2518.000000  2535.000000  2535.000000  690.000000  2326.000000\n",
       "mean    120.073158     9.514947    59.779590   15.768433    70.822609\n",
       "std      73.268235     3.269657    14.309671    9.986987    33.354349\n",
       "min      29.672398     4.441216    35.373398    5.970000    20.351044\n",
       "25%      66.306261     5.777770    45.859341    9.200000    27.305870\n",
       "50%     101.454456    10.792195    61.377052   12.140000    81.974186\n",
       "75%     163.260036    12.235141    72.135265   17.695000    95.460314\n",
       "max     425.040009    15.420000    87.423950   52.000000   137.682953"
      ]
     },
     "execution_count": 3,
     "metadata": {},
     "output_type": "execute_result"
    }
   ],
   "source": [
    "data =df['Adj Close']\n",
    "data.describe()"
   ]
  },
  {
   "cell_type": "code",
   "execution_count": 4,
   "metadata": {},
   "outputs": [
    {
     "data": {
      "text/html": [
       "<style  type=\"text/css\" >\n",
       "    #T_b02d1cec_d430_11ea_b3b8_1f41aa4cca35row0_col0 {\n",
       "            background-color:  #b40426;\n",
       "            color:  #f1f1f1;\n",
       "        }    #T_b02d1cec_d430_11ea_b3b8_1f41aa4cca35row0_col1 {\n",
       "            background-color:  #f5a081;\n",
       "            color:  #000000;\n",
       "        }    #T_b02d1cec_d430_11ea_b3b8_1f41aa4cca35row0_col2 {\n",
       "            background-color:  #f5c1a9;\n",
       "            color:  #000000;\n",
       "        }    #T_b02d1cec_d430_11ea_b3b8_1f41aa4cca35row0_col3 {\n",
       "            background-color:  #dd5f4b;\n",
       "            color:  #000000;\n",
       "        }    #T_b02d1cec_d430_11ea_b3b8_1f41aa4cca35row0_col4 {\n",
       "            background-color:  #f29274;\n",
       "            color:  #000000;\n",
       "        }    #T_b02d1cec_d430_11ea_b3b8_1f41aa4cca35row1_col0 {\n",
       "            background-color:  #cfdaea;\n",
       "            color:  #000000;\n",
       "        }    #T_b02d1cec_d430_11ea_b3b8_1f41aa4cca35row1_col1 {\n",
       "            background-color:  #b40426;\n",
       "            color:  #f1f1f1;\n",
       "        }    #T_b02d1cec_d430_11ea_b3b8_1f41aa4cca35row1_col2 {\n",
       "            background-color:  #e36c55;\n",
       "            color:  #000000;\n",
       "        }    #T_b02d1cec_d430_11ea_b3b8_1f41aa4cca35row1_col3 {\n",
       "            background-color:  #90b2fe;\n",
       "            color:  #000000;\n",
       "        }    #T_b02d1cec_d430_11ea_b3b8_1f41aa4cca35row1_col4 {\n",
       "            background-color:  #c53334;\n",
       "            color:  #f1f1f1;\n",
       "        }    #T_b02d1cec_d430_11ea_b3b8_1f41aa4cca35row2_col0 {\n",
       "            background-color:  #3b4cc0;\n",
       "            color:  #f1f1f1;\n",
       "        }    #T_b02d1cec_d430_11ea_b3b8_1f41aa4cca35row2_col1 {\n",
       "            background-color:  #ee8468;\n",
       "            color:  #000000;\n",
       "        }    #T_b02d1cec_d430_11ea_b3b8_1f41aa4cca35row2_col2 {\n",
       "            background-color:  #b40426;\n",
       "            color:  #f1f1f1;\n",
       "        }    #T_b02d1cec_d430_11ea_b3b8_1f41aa4cca35row2_col3 {\n",
       "            background-color:  #3c4ec2;\n",
       "            color:  #f1f1f1;\n",
       "        }    #T_b02d1cec_d430_11ea_b3b8_1f41aa4cca35row2_col4 {\n",
       "            background-color:  #f18f71;\n",
       "            color:  #000000;\n",
       "        }    #T_b02d1cec_d430_11ea_b3b8_1f41aa4cca35row3_col0 {\n",
       "            background-color:  #f7ba9f;\n",
       "            color:  #000000;\n",
       "        }    #T_b02d1cec_d430_11ea_b3b8_1f41aa4cca35row3_col1 {\n",
       "            background-color:  #3b4cc0;\n",
       "            color:  #f1f1f1;\n",
       "        }    #T_b02d1cec_d430_11ea_b3b8_1f41aa4cca35row3_col2 {\n",
       "            background-color:  #3b4cc0;\n",
       "            color:  #f1f1f1;\n",
       "        }    #T_b02d1cec_d430_11ea_b3b8_1f41aa4cca35row3_col3 {\n",
       "            background-color:  #b40426;\n",
       "            color:  #f1f1f1;\n",
       "        }    #T_b02d1cec_d430_11ea_b3b8_1f41aa4cca35row3_col4 {\n",
       "            background-color:  #3b4cc0;\n",
       "            color:  #f1f1f1;\n",
       "        }    #T_b02d1cec_d430_11ea_b3b8_1f41aa4cca35row4_col0 {\n",
       "            background-color:  #b2ccfb;\n",
       "            color:  #000000;\n",
       "        }    #T_b02d1cec_d430_11ea_b3b8_1f41aa4cca35row4_col1 {\n",
       "            background-color:  #cc403a;\n",
       "            color:  #f1f1f1;\n",
       "        }    #T_b02d1cec_d430_11ea_b3b8_1f41aa4cca35row4_col2 {\n",
       "            background-color:  #f18f71;\n",
       "            color:  #000000;\n",
       "        }    #T_b02d1cec_d430_11ea_b3b8_1f41aa4cca35row4_col3 {\n",
       "            background-color:  #3b4cc0;\n",
       "            color:  #f1f1f1;\n",
       "        }    #T_b02d1cec_d430_11ea_b3b8_1f41aa4cca35row4_col4 {\n",
       "            background-color:  #b40426;\n",
       "            color:  #f1f1f1;\n",
       "        }</style><table id=\"T_b02d1cec_d430_11ea_b3b8_1f41aa4cca35\" ><thead>    <tr>        <th class=\"blank level0\" ></th>        <th class=\"col_heading level0 col0\" >AAPL</th>        <th class=\"col_heading level0 col1\" >DTE.DE</th>        <th class=\"col_heading level0 col2\" >FME.DE</th>        <th class=\"col_heading level0 col3\" >HFG.DE</th>        <th class=\"col_heading level0 col4\" >WDP.DE</th>    </tr></thead><tbody>\n",
       "                <tr>\n",
       "                        <th id=\"T_b02d1cec_d430_11ea_b3b8_1f41aa4cca35level0_row0\" class=\"row_heading level0 row0\" >AAPL</th>\n",
       "                        <td id=\"T_b02d1cec_d430_11ea_b3b8_1f41aa4cca35row0_col0\" class=\"data row0 col0\" >1.000000</td>\n",
       "                        <td id=\"T_b02d1cec_d430_11ea_b3b8_1f41aa4cca35row0_col1\" class=\"data row0 col1\" >0.816111</td>\n",
       "                        <td id=\"T_b02d1cec_d430_11ea_b3b8_1f41aa4cca35row0_col2\" class=\"data row0 col2\" >0.665473</td>\n",
       "                        <td id=\"T_b02d1cec_d430_11ea_b3b8_1f41aa4cca35row0_col3\" class=\"data row0 col3\" >0.885062</td>\n",
       "                        <td id=\"T_b02d1cec_d430_11ea_b3b8_1f41aa4cca35row0_col4\" class=\"data row0 col4\" >0.785220</td>\n",
       "            </tr>\n",
       "            <tr>\n",
       "                        <th id=\"T_b02d1cec_d430_11ea_b3b8_1f41aa4cca35level0_row1\" class=\"row_heading level0 row1\" >DTE.DE</th>\n",
       "                        <td id=\"T_b02d1cec_d430_11ea_b3b8_1f41aa4cca35row1_col0\" class=\"data row1 col0\" >0.816111</td>\n",
       "                        <td id=\"T_b02d1cec_d430_11ea_b3b8_1f41aa4cca35row1_col1\" class=\"data row1 col1\" >1.000000</td>\n",
       "                        <td id=\"T_b02d1cec_d430_11ea_b3b8_1f41aa4cca35row1_col2\" class=\"data row1 col2\" >0.861944</td>\n",
       "                        <td id=\"T_b02d1cec_d430_11ea_b3b8_1f41aa4cca35row1_col3\" class=\"data row1 col3\" >0.314540</td>\n",
       "                        <td id=\"T_b02d1cec_d430_11ea_b3b8_1f41aa4cca35row1_col4\" class=\"data row1 col4\" >0.954417</td>\n",
       "            </tr>\n",
       "            <tr>\n",
       "                        <th id=\"T_b02d1cec_d430_11ea_b3b8_1f41aa4cca35level0_row2\" class=\"row_heading level0 row2\" >FME.DE</th>\n",
       "                        <td id=\"T_b02d1cec_d430_11ea_b3b8_1f41aa4cca35row2_col0\" class=\"data row2 col0\" >0.665473</td>\n",
       "                        <td id=\"T_b02d1cec_d430_11ea_b3b8_1f41aa4cca35row2_col1\" class=\"data row2 col1\" >0.861944</td>\n",
       "                        <td id=\"T_b02d1cec_d430_11ea_b3b8_1f41aa4cca35row2_col2\" class=\"data row2 col2\" >1.000000</td>\n",
       "                        <td id=\"T_b02d1cec_d430_11ea_b3b8_1f41aa4cca35row2_col3\" class=\"data row2 col3\" >0.079777</td>\n",
       "                        <td id=\"T_b02d1cec_d430_11ea_b3b8_1f41aa4cca35row2_col4\" class=\"data row2 col4\" >0.792220</td>\n",
       "            </tr>\n",
       "            <tr>\n",
       "                        <th id=\"T_b02d1cec_d430_11ea_b3b8_1f41aa4cca35level0_row3\" class=\"row_heading level0 row3\" >HFG.DE</th>\n",
       "                        <td id=\"T_b02d1cec_d430_11ea_b3b8_1f41aa4cca35row3_col0\" class=\"data row3 col0\" >0.885062</td>\n",
       "                        <td id=\"T_b02d1cec_d430_11ea_b3b8_1f41aa4cca35row3_col1\" class=\"data row3 col1\" >0.314540</td>\n",
       "                        <td id=\"T_b02d1cec_d430_11ea_b3b8_1f41aa4cca35row3_col2\" class=\"data row3 col2\" >0.079777</td>\n",
       "                        <td id=\"T_b02d1cec_d430_11ea_b3b8_1f41aa4cca35row3_col3\" class=\"data row3 col3\" >1.000000</td>\n",
       "                        <td id=\"T_b02d1cec_d430_11ea_b3b8_1f41aa4cca35row3_col4\" class=\"data row3 col4\" >0.074050</td>\n",
       "            </tr>\n",
       "            <tr>\n",
       "                        <th id=\"T_b02d1cec_d430_11ea_b3b8_1f41aa4cca35level0_row4\" class=\"row_heading level0 row4\" >WDP.DE</th>\n",
       "                        <td id=\"T_b02d1cec_d430_11ea_b3b8_1f41aa4cca35row4_col0\" class=\"data row4 col0\" >0.785220</td>\n",
       "                        <td id=\"T_b02d1cec_d430_11ea_b3b8_1f41aa4cca35row4_col1\" class=\"data row4 col1\" >0.954417</td>\n",
       "                        <td id=\"T_b02d1cec_d430_11ea_b3b8_1f41aa4cca35row4_col2\" class=\"data row4 col2\" >0.792220</td>\n",
       "                        <td id=\"T_b02d1cec_d430_11ea_b3b8_1f41aa4cca35row4_col3\" class=\"data row4 col3\" >0.074050</td>\n",
       "                        <td id=\"T_b02d1cec_d430_11ea_b3b8_1f41aa4cca35row4_col4\" class=\"data row4 col4\" >1.000000</td>\n",
       "            </tr>\n",
       "    </tbody></table>"
      ],
      "text/plain": [
       "<pandas.io.formats.style.Styler at 0x7fe13c2ad750>"
      ]
     },
     "execution_count": 4,
     "metadata": {},
     "output_type": "execute_result"
    }
   ],
   "source": [
    "corr =data.corr()\n",
    "corr.style.background_gradient(cmap='coolwarm')"
   ]
  },
  {
   "cell_type": "code",
   "execution_count": 5,
   "metadata": {},
   "outputs": [
    {
     "data": {
      "image/png": "[encoded data removed]",
      "text/plain": [
       "<Figure size 432x288 with 1 Axes>"
      ]
     },
     "metadata": {},
     "output_type": "display_data"
    }
   ],
   "source": [
    "returns = data.pct_change()\n",
    "cov_returns = returns.cov()\n",
    "mean_returns = returns.mean()\n",
    "std_returns = returns.std()\n",
    "\n",
    "#plotten der Einzelaktien\n",
    "\n",
    "plt.title('Risiko / Return Einzelaktien')\n",
    "plt.xlabel('Volatilität')\n",
    "plt.ylabel('Returns')\n",
    "cmap = sns.cubehelix_palette(dark=.7, light=.8, as_cmap=True)\n",
    "ax = sns.scatterplot(x=std_returns, y=mean_returns, palette=cmap)"
   ]
  },
  {
   "cell_type": "markdown",
   "metadata": {},
   "source": [
    "# Generieren zufälliger Portfolios\n",
    "\n",
    "Wir haben 5 Aktien und müssen entscheiden wie wir Anlegen, dazu ist unser Budget 1. "
   ]
  },
  {
   "cell_type": "code",
   "execution_count": 6,
   "metadata": {},
   "outputs": [],
   "source": [
    "from numpy import random\n",
    "num_portfolios = 5000\n",
    "\n",
    "def portfolio_performance(weights, mean_returns, cov_returns):\n",
    "    pf_return = np.dot(weights, mean_returns) * 252\n",
    "    pf_std = np.sqrt(np.dot( weights, np.dot(cov_returns, np.transpose(weights)))) *np.sqrt(252)\n",
    "    pf_sharpe = pf_return[0] / pf_std[0][0]\n",
    "    return weights[0][0], weights[0][1], weights[0][2], weights[0][3], weights[0][4], pf_return[0], pf_std[0][0], pf_sharpe"
   ]
  },
  {
   "cell_type": "code",
   "execution_count": 7,
   "metadata": {},
   "outputs": [
    {
     "data": {
      "text/html": [
       "<div>\n",
       "<style scoped>\n",
       "    .dataframe tbody tr th:only-of-type {\n",
       "        vertical-align: middle;\n",
       "    }\n",
       "\n",
       "    .dataframe tbody tr th {\n",
       "        vertical-align: top;\n",
       "    }\n",
       "\n",
       "    .dataframe thead th {\n",
       "        text-align: right;\n",
       "    }\n",
       "</style>\n",
       "<table border=\"1\" class=\"dataframe\">\n",
       "  <thead>\n",
       "    <tr style=\"text-align: right;\">\n",
       "      <th></th>\n",
       "      <th>% DTE.DE</th>\n",
       "      <th>% FME.DE</th>\n",
       "      <th>% AAPL</th>\n",
       "      <th>% WDP.DE</th>\n",
       "      <th>% HFG.DE</th>\n",
       "      <th>returns</th>\n",
       "      <th>volatility</th>\n",
       "      <th>sharpe ratio</th>\n",
       "    </tr>\n",
       "  </thead>\n",
       "  <tbody>\n",
       "    <tr>\n",
       "      <th>0</th>\n",
       "      <td>0.126529</td>\n",
       "      <td>0.242655</td>\n",
       "      <td>0.002537</td>\n",
       "      <td>0.279464</td>\n",
       "      <td>0.348815</td>\n",
       "      <td>0.314015</td>\n",
       "      <td>0.224768</td>\n",
       "      <td>1.397063</td>\n",
       "    </tr>\n",
       "    <tr>\n",
       "      <th>1</th>\n",
       "      <td>0.029598</td>\n",
       "      <td>0.048984</td>\n",
       "      <td>0.501957</td>\n",
       "      <td>0.089095</td>\n",
       "      <td>0.330366</td>\n",
       "      <td>0.184956</td>\n",
       "      <td>0.196095</td>\n",
       "      <td>0.943194</td>\n",
       "    </tr>\n",
       "    <tr>\n",
       "      <th>2</th>\n",
       "      <td>0.396956</td>\n",
       "      <td>0.156781</td>\n",
       "      <td>0.055487</td>\n",
       "      <td>0.105097</td>\n",
       "      <td>0.285678</td>\n",
       "      <td>0.262173</td>\n",
       "      <td>0.191764</td>\n",
       "      <td>1.367168</td>\n",
       "    </tr>\n",
       "    <tr>\n",
       "      <th>3</th>\n",
       "      <td>0.103727</td>\n",
       "      <td>0.319610</td>\n",
       "      <td>0.003952</td>\n",
       "      <td>0.294933</td>\n",
       "      <td>0.277779</td>\n",
       "      <td>0.312640</td>\n",
       "      <td>0.220294</td>\n",
       "      <td>1.419194</td>\n",
       "    </tr>\n",
       "    <tr>\n",
       "      <th>4</th>\n",
       "      <td>0.131338</td>\n",
       "      <td>0.277810</td>\n",
       "      <td>0.125066</td>\n",
       "      <td>0.197106</td>\n",
       "      <td>0.268681</td>\n",
       "      <td>0.262448</td>\n",
       "      <td>0.192293</td>\n",
       "      <td>1.364832</td>\n",
       "    </tr>\n",
       "  </tbody>\n",
       "</table>\n",
       "</div>"
      ],
      "text/plain": [
       "   % DTE.DE  % FME.DE    % AAPL  % WDP.DE  % HFG.DE   returns  volatility  \\\n",
       "0  0.126529  0.242655  0.002537  0.279464  0.348815  0.314015    0.224768   \n",
       "1  0.029598  0.048984  0.501957  0.089095  0.330366  0.184956    0.196095   \n",
       "2  0.396956  0.156781  0.055487  0.105097  0.285678  0.262173    0.191764   \n",
       "3  0.103727  0.319610  0.003952  0.294933  0.277779  0.312640    0.220294   \n",
       "4  0.131338  0.277810  0.125066  0.197106  0.268681  0.262448    0.192293   \n",
       "\n",
       "   sharpe ratio  \n",
       "0      1.397063  \n",
       "1      0.943194  \n",
       "2      1.367168  \n",
       "3      1.419194  \n",
       "4      1.364832  "
      ]
     },
     "execution_count": 7,
     "metadata": {},
     "output_type": "execute_result"
    }
   ],
   "source": [
    "df_portfolios= pd.DataFrame(columns = ['% DTE.DE', '% FME.DE', '% AAPL', '% WDP.DE', '% HFG.DE', 'returns', 'volatility'])\n",
    "for i in range(num_portfolios):\n",
    "    weights = np.random.dirichlet(np.ones(5), size=1)\n",
    "    stk1, stk2, stk3, stk4, stk5, ret, vol, sharpe = portfolio_performance(weights, mean_returns, cov_returns)\n",
    "    df_portfolios = df_portfolios.append({ '% DTE.DE': stk1,\n",
    "                                            '% FME.DE': stk2,\n",
    "                                            '% AAPL': stk3,\n",
    "                                            '% WDP.DE': stk4,\n",
    "                                            '% HFG.DE': stk5,\n",
    "                                            'returns': ret,\n",
    "                                            'volatility': vol,\n",
    "                                            'sharpe ratio': sharpe}\n",
    "                         ,ignore_index = True\n",
    "                        )\n",
    "df_portfolios.head()"
   ]
  },
  {
   "cell_type": "code",
   "execution_count": 8,
   "metadata": {
    "scrolled": true
   },
   "outputs": [
    {
     "data": {
      "image/png": "[encoded data removed]",
      "text/plain": [
       "<Figure size 432x288 with 1 Axes>"
      ]
     },
     "metadata": {},
     "output_type": "display_data"
    }
   ],
   "source": [
    "cmap = sns.cubehelix_palette(dark=.2, light=.8, as_cmap=True)\n",
    "ax = sns.scatterplot(data=df_portfolios, x=\"volatility\", y=\"returns\", hue=\"sharpe ratio\", palette=cmap)\n"
   ]
  },
  {
   "cell_type": "code",
   "execution_count": 9,
   "metadata": {},
   "outputs": [
    {
     "name": "stdout",
     "output_type": "stream",
     "text": [
      "Portfolio mit der maximalen Sharp Ratio:\n",
      "     % DTE.DE  % FME.DE    % AAPL  % WDP.DE  % HFG.DE   returns  volatility  \\\n",
      "169  0.416045  0.082655  0.034905  0.338551  0.127844  0.376752    0.236096   \n",
      "\n",
      "     sharpe ratio  \n",
      "169      1.595761  \n",
      "Portfolio mit dem geringsten Risiko:\n",
      "      % DTE.DE  % FME.DE    % AAPL  % WDP.DE  % HFG.DE   returns  volatility  \\\n",
      "1611  0.233784  0.297787  0.303014  0.050402  0.115013  0.186667    0.164364   \n",
      "\n",
      "      sharpe ratio  \n",
      "1611      1.135691  \n",
      "Portfolio mit dem größten Return:\n",
      "      % DTE.DE  % FME.DE    % AAPL  % WDP.DE  % HFG.DE   returns  volatility  \\\n",
      "2508  0.077421  0.016206  0.018866  0.868232  0.019274  0.590295    0.437181   \n",
      "\n",
      "      sharpe ratio  \n",
      "2508      1.350231  \n"
     ]
    }
   ],
   "source": [
    "# Berechnen max sharpe\n",
    "\n",
    "max_sharpe = df_portfolios['sharpe ratio'].max()\n",
    "ind_max_sharpe = df_portfolios[df_portfolios['sharpe ratio'] == max_sharpe]\n",
    "print('Portfolio mit der maximalen Sharp Ratio:')\n",
    "print(ind_max_sharpe)\n",
    "\n",
    "# Portfolio mit dem geringsten Risiko\n",
    "min_risk = df_portfolios['volatility'].min()\n",
    "ind_min_risk = df_portfolios[df_portfolios['volatility'] == min_risk]\n",
    "\n",
    "print('Portfolio mit dem geringsten Risiko:')\n",
    "print(ind_min_risk)\n",
    "\n",
    "# Portfolio mit den größten Returns\n",
    "max_return = df_portfolios['returns'].max()\n",
    "ind_max_return = df_portfolios[df_portfolios['returns'] == max_return]\n",
    "\n",
    "print('Portfolio mit dem größten Return:')\n",
    "print(ind_max_return)\n"
   ]
  },
  {
   "cell_type": "code",
   "execution_count": 10,
   "metadata": {},
   "outputs": [
    {
     "name": "stdout",
     "output_type": "stream",
     "text": [
      "      % DTE.DE  % FME.DE    % AAPL  % WDP.DE  % HFG.DE   returns  volatility  \\\n",
      "1611  0.233784  0.297787  0.303014  0.050402  0.115013  0.186667    0.164364   \n",
      "\n",
      "      sharpe ratio  \n",
      "1611      1.135691  \n"
     ]
    },
    {
     "data": {
      "text/plain": [
       "<matplotlib.collections.PathCollection at 0x7fe102066ed0>"
      ]
     },
     "execution_count": 10,
     "metadata": {},
     "output_type": "execute_result"
    },
    {
     "data": {
      "image/png": "[encoded data removed]",
      "text/plain": [
       "<Figure size 432x288 with 1 Axes>"
      ]
     },
     "metadata": {},
     "output_type": "display_data"
    }
   ],
   "source": [
    "#finden der dominierenden Portfolios\n",
    "# Portfolio dominiert, wenn es einen höheren Return für gleiches oder geringeres Risiko hat\n",
    "\n",
    "# Portfolio mit dem geringsten Risiko\n",
    "min_risk = df_portfolios['volatility'].min()\n",
    "ind_min_risk = df_portfolios[df_portfolios['volatility'] == min_risk]\n",
    "print(ind_min_risk)\n",
    "\n",
    "plt.title('Risiko / Return Einzelaktien')\n",
    "plt.xlabel('Volatilität')\n",
    "plt.ylabel('Returns')\n",
    "plt.scatter(ind_max_sharpe['volatility'], ind_max_sharpe['returns'], c='red', s=70)\n",
    "plt.scatter(ind_min_risk['volatility'], ind_min_risk['returns'], c='green', s=70)\n",
    "plt.scatter(ind_max_return['volatility'], ind_max_return['returns'], c='blue', s=70)\n",
    "\n"
   ]
  },
  {
   "cell_type": "code",
   "execution_count": 14,
   "metadata": {},
   "outputs": [
    {
     "name": "stdout",
     "output_type": "stream",
     "text": [
      "[]\n",
      "0.0\n"
     ]
    },
    {
     "name": "stderr",
     "output_type": "stream",
     "text": [
      "/home/johannes/anaconda3/lib/python3.7/site-packages/ipykernel_launcher.py:10: FutureWarning: `rcond` parameter will change to the default of machine precision times ``max(M, N)`` where M and N are the input matrix dimensions.\n",
      "To use the future default and silence this warning we advise to pass `rcond=None`, to keep using the old, explicitly pass `rcond=-1`.\n",
      "  # Remove the CWD from sys.path while we load stuff.\n"
     ]
    }
   ],
   "source": [
    "\n",
    "#Rausfinden was y für die Effizienz Grenze ist\n",
    "\n",
    "\n",
    "eq1 = [ind_max_sharpe['volatility'] ** 2, ind_max_sharpe['volatility'], 0 ]\n",
    "eq2 = [ind_min_risk['volatility'] **2, ind_min_risk['volatility'], 0]\n",
    "eq3 = [ind_max_return['volatility'] **2, ind_max_return['volatility'], 0]\n",
    "\n",
    "A = np.array([eq1, eq2, eq3], dtype='float')\n",
    "B = np.array([ind_max_sharpe['returns'].iloc[0], ind_min_risk['returns'].iloc[0], ind_max_return['returns'].iloc[0]], dtype='float')\n",
    "solution = np.linalg.lstsq(A,B)\n",
    "print(solution[1])\n",
    "print(solution[0][2])"
   ]
  },
  {
   "cell_type": "code",
   "execution_count": 17,
   "metadata": {},
   "outputs": [
    {
     "name": "stdout",
     "output_type": "stream",
     "text": [
      "[0.00000000e+00 2.91436503e-06 5.82872964e-06 ... 2.70278879e+00\n",
      " 2.70279129e+00 2.70279378e+00]\n"
     ]
    },
    {
     "data": {
      "text/plain": [
       "[<matplotlib.lines.Line2D at 0x7fe0e00cec90>]"
      ]
     },
     "execution_count": 17,
     "metadata": {},
     "output_type": "execute_result"
    },
    {
     "data": {
      "image/png": "[encoded data removed]",
      "text/plain": [
       "<Figure size 432x288 with 1 Axes>"
      ]
     },
     "metadata": {},
     "output_type": "display_data"
    }
   ],
   "source": [
    "x = np.linspace(0, 1, 1000000)\n",
    "\n",
    "y = solution[0][0]*x**2 + solution[0][1]*2*x + solution[0][2]  \n",
    "\n",
    "print (y)\n",
    "plt.scatter(ind_max_sharpe['volatility'], ind_max_sharpe['returns'], c='red', s=70)\n",
    "plt.scatter(ind_min_risk['volatility'], ind_min_risk['returns'], c='green', s=70)\n",
    "plt.scatter(ind_max_return['volatility'], ind_max_return['returns'], c='blue', s=70)\n",
    "plt.plot(x, y)"
   ]
  },
  {
   "cell_type": "code",
   "execution_count": null,
   "metadata": {},
   "outputs": [],
   "source": []
  }
 ],
 "metadata": {
  "kernelspec": {
   "display_name": "Python 3",
   "language": "python",
   "name": "python3"
  },
  "language_info": {
   "codemirror_mode": {
    "name": "ipython",
    "version": 3
   },
   "file_extension": ".py",
   "mimetype": "text/x-python",
   "name": "python",
   "nbconvert_exporter": "python",
   "pygments_lexer": "ipython3",
   "version": "3.7.6"
  }
 },
 "nbformat": 4,
 "nbformat_minor": 4
}
